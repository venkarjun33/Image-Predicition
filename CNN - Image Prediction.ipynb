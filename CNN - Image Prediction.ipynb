{
 "cells": [
  {
   "cell_type": "code",
   "execution_count": 1,
   "metadata": {},
   "outputs": [
    {
     "name": "stdout",
     "output_type": "stream",
     "text": [
      "WARNING:tensorflow:From c:\\Python\\Python310\\lib\\site-packages\\keras\\src\\losses.py:2976: The name tf.losses.sparse_softmax_cross_entropy is deprecated. Please use tf.compat.v1.losses.sparse_softmax_cross_entropy instead.\n",
      "\n"
     ]
    }
   ],
   "source": [
    "import numpy as np\n",
    "import tensorflow as tf\n",
    "import matplotlib.pyplot as plt\n",
    "from tensorflow.keras import layers, models\n",
    "from tensorflow.keras.datasets import mnist\n",
    "from tensorflow.keras.callbacks import EarlyStopping\n",
    "from tensorflow.keras.regularizers import l1, l2\n",
    "from sklearn.model_selection import train_test_split"
   ]
  },
  {
   "cell_type": "code",
   "execution_count": 2,
   "metadata": {},
   "outputs": [],
   "source": [
    "# Load MNIST dataset\n",
    "(x_train, y_train), (x_test, y_test) = mnist.load_data()"
   ]
  },
  {
   "cell_type": "code",
   "execution_count": 3,
   "metadata": {},
   "outputs": [],
   "source": [
    "# Preprocess the data\n",
    "x_train = x_train.reshape((-1, 28, 28, 1)).astype(\"float32\") / 255.0\n",
    "x_test = x_test.reshape((-1, 28, 28, 1)).astype(\"float32\") / 255.0"
   ]
  },
  {
   "cell_type": "code",
   "execution_count": 4,
   "metadata": {},
   "outputs": [],
   "source": [
    "# Split the training data into training and validation sets\n",
    "x_train, x_val, y_train, y_val = train_test_split(x_train, y_train, test_size=0.1, random_state=42)"
   ]
  },
  {
   "cell_type": "code",
   "execution_count": 5,
   "metadata": {},
   "outputs": [],
   "source": [
    "# Define the CNN model\n",
    "def build_cnn_model(regularization=None):\n",
    "    model = models.Sequential()\n",
    "    model.add(layers.Conv2D(32, (3, 3), activation='relu', input_shape=(28, 28, 1)))\n",
    "    model.add(layers.MaxPooling2D((2, 2)))\n",
    "    model.add(layers.Conv2D(64, (3, 3), activation='relu'))\n",
    "    model.add(layers.MaxPooling2D((2, 2)))\n",
    "    model.add(layers.Conv2D(64, (3, 3), activation='relu'))\n",
    "    model.add(layers.Flatten())\n",
    "    if regularization == 'l1':\n",
    "        model.add(layers.Dense(64, activation='relu', kernel_regularizer=l1(0.001)))\n",
    "    elif regularization == 'l2':\n",
    "        model.add(layers.Dense(64, activation='relu', kernel_regularizer=l2(0.001)))\n",
    "    else:\n",
    "        model.add(layers.Dense(64, activation='relu'))\n",
    "    model.add(layers.Dropout(0.3))  # Dropout regularization\n",
    "    model.add(layers.Dense(10, activation='softmax'))\n",
    "    return model"
   ]
  },
  {
   "cell_type": "code",
   "execution_count": 6,
   "metadata": {},
   "outputs": [],
   "source": [
    "# Function to train the model\n",
    "def train_model(model, x_train, y_train, x_val, y_val):\n",
    "    model.compile(optimizer='adam',\n",
    "                  loss='sparse_categorical_crossentropy',\n",
    "                  metrics=['accuracy'])\n",
    "    early_stopping = EarlyStopping(patience=3, restore_best_weights=True)  # Early stopping callback\n",
    "    history = model.fit(x_train, y_train, epochs=2, batch_size=64, validation_data=(x_val, y_val), callbacks=[early_stopping])\n",
    "    return history"
   ]
  },
  {
   "cell_type": "code",
   "execution_count": 7,
   "metadata": {},
   "outputs": [],
   "source": [
    "# Function to evaluate the model\n",
    "def evaluate_model(model, x_test, y_test):\n",
    "    test_loss, test_acc = model.evaluate(x_test, y_test)\n",
    "    print(f'Test accuracy: {test_acc}')"
   ]
  },
  {
   "cell_type": "code",
   "execution_count": 8,
   "metadata": {},
   "outputs": [
    {
     "name": "stdout",
     "output_type": "stream",
     "text": [
      "Model without regularization:\n",
      "WARNING:tensorflow:From c:\\Python\\Python310\\lib\\site-packages\\keras\\src\\backend.py:873: The name tf.get_default_graph is deprecated. Please use tf.compat.v1.get_default_graph instead.\n",
      "\n",
      "WARNING:tensorflow:From c:\\Python\\Python310\\lib\\site-packages\\keras\\src\\layers\\pooling\\max_pooling2d.py:161: The name tf.nn.max_pool is deprecated. Please use tf.nn.max_pool2d instead.\n",
      "\n",
      "WARNING:tensorflow:From c:\\Python\\Python310\\lib\\site-packages\\keras\\src\\optimizers\\__init__.py:309: The name tf.train.Optimizer is deprecated. Please use tf.compat.v1.train.Optimizer instead.\n",
      "\n",
      "Epoch 1/2\n",
      "WARNING:tensorflow:From c:\\Python\\Python310\\lib\\site-packages\\keras\\src\\utils\\tf_utils.py:492: The name tf.ragged.RaggedTensorValue is deprecated. Please use tf.compat.v1.ragged.RaggedTensorValue instead.\n",
      "\n",
      "WARNING:tensorflow:From c:\\Python\\Python310\\lib\\site-packages\\keras\\src\\engine\\base_layer_utils.py:384: The name tf.executing_eagerly_outside_functions is deprecated. Please use tf.compat.v1.executing_eagerly_outside_functions instead.\n",
      "\n",
      "844/844 [==============================] - 16s 16ms/step - loss: 0.2574 - accuracy: 0.9189 - val_loss: 0.0682 - val_accuracy: 0.9817\n",
      "Epoch 2/2\n",
      "844/844 [==============================] - 13s 16ms/step - loss: 0.0792 - accuracy: 0.9767 - val_loss: 0.0438 - val_accuracy: 0.9870\n",
      "313/313 [==============================] - 2s 6ms/step - loss: 0.0371 - accuracy: 0.9874\n",
      "Test accuracy: 0.9873999953269958\n"
     ]
    }
   ],
   "source": [
    "# Build and train CNN model without regularization\n",
    "print(\"Model without regularization:\")\n",
    "cnn_model_no_reg = build_cnn_model()\n",
    "history_no_reg = train_model(cnn_model_no_reg, x_train, y_train, x_val, y_val)\n",
    "evaluate_model(cnn_model_no_reg, x_test, y_test)"
   ]
  },
  {
   "cell_type": "code",
   "execution_count": 9,
   "metadata": {},
   "outputs": [
    {
     "name": "stdout",
     "output_type": "stream",
     "text": [
      "1/1 [==============================] - 0s 205ms/step\n",
      "True Label: 2, Predicted Label: 3\n"
     ]
    }
   ],
   "source": [
    "# Make predictions\n",
    "def predict_digit(model, image):\n",
    "    # Preprocess the image\n",
    "    image = image.reshape((1, 28, 28, 1)).astype(\"float32\") / 255.0\n",
    "    # Make prediction\n",
    "    prediction = model.predict(image)\n",
    "    # Get the predicted digit\n",
    "    predicted_digit = np.argmax(prediction)\n",
    "    return predicted_digit\n",
    "\n",
    "# Choose a random test image\n",
    "random_index = np.random.randint(0, len(x_test))\n",
    "test_image = x_test[random_index]\n",
    "true_label = y_test[random_index]\n",
    "\n",
    "# Predict the digit\n",
    "predicted_label = predict_digit(cnn_model_no_reg, test_image)\n",
    "\n",
    "# Display the results\n",
    "print(f\"True Label: {true_label}, Predicted Label: {predicted_label}\")\n"
   ]
  },
  {
   "cell_type": "code",
   "execution_count": 10,
   "metadata": {},
   "outputs": [
    {
     "name": "stdout",
     "output_type": "stream",
     "text": [
      "\n",
      "Model with L1 regularization:\n",
      "Epoch 1/2\n",
      "844/844 [==============================] - 16s 17ms/step - loss: 0.7422 - accuracy: 0.9115 - val_loss: 0.2636 - val_accuracy: 0.9810\n",
      "Epoch 2/2\n",
      "844/844 [==============================] - 14s 17ms/step - loss: 0.2530 - accuracy: 0.9696 - val_loss: 0.1798 - val_accuracy: 0.9842\n",
      "313/313 [==============================] - 2s 6ms/step - loss: 0.1668 - accuracy: 0.9856\n",
      "Test accuracy: 0.9855999946594238\n"
     ]
    }
   ],
   "source": [
    "# Build and train CNN model with L1 regularization\n",
    "print(\"\\nModel with L1 regularization:\")\n",
    "cnn_model_l1 = build_cnn_model(regularization='l1')\n",
    "history_l1 = train_model(cnn_model_l1, x_train, y_train, x_val, y_val)\n",
    "evaluate_model(cnn_model_l1, x_test, y_test)"
   ]
  },
  {
   "cell_type": "code",
   "execution_count": 11,
   "metadata": {},
   "outputs": [
    {
     "name": "stdout",
     "output_type": "stream",
     "text": [
      "\n",
      "Model with L2 regularization:\n",
      "Epoch 1/2\n",
      "844/844 [==============================] - 15s 16ms/step - loss: 0.3325 - accuracy: 0.9169 - val_loss: 0.1253 - val_accuracy: 0.9795\n",
      "Epoch 2/2\n",
      "844/844 [==============================] - 14s 17ms/step - loss: 0.1272 - accuracy: 0.9774 - val_loss: 0.0890 - val_accuracy: 0.9865\n",
      "313/313 [==============================] - 2s 7ms/step - loss: 0.0793 - accuracy: 0.9879\n",
      "Test accuracy: 0.9879000186920166\n"
     ]
    }
   ],
   "source": [
    "# Build and train CNN model with L2 regularization\n",
    "print(\"\\nModel with L2 regularization:\")\n",
    "cnn_model_l2 = build_cnn_model(regularization='l2')\n",
    "history_l2 = train_model(cnn_model_l2, x_train, y_train, x_val, y_val)\n",
    "evaluate_model(cnn_model_l2, x_test, y_test)"
   ]
  },
  {
   "cell_type": "code",
   "execution_count": 23,
   "metadata": {},
   "outputs": [
    {
     "name": "stdout",
     "output_type": "stream",
     "text": [
      "1/1 [==============================] - 0s 27ms/step\n",
      "True Label: 6, Predicted Label: 6, Confidence Score: 0.15656204521656036\n"
     ]
    },
    {
     "data": {
      "image/png": "[encoded data removed]",
      "text/plain": [
       "<Figure size 640x480 with 1 Axes>"
      ]
     },
     "metadata": {},
     "output_type": "display_data"
    }
   ],
   "source": [
    "import matplotlib.pyplot as plt\n",
    "\n",
    "# Function to make predictions with confidence scores\n",
    "def predict_digit_with_confidence(model, image):\n",
    "    # Preprocess the image\n",
    "    image = image.reshape((1, 28, 28, 1)).astype(\"float32\") / 255.0\n",
    "    # Make prediction\n",
    "    prediction = model.predict(image)\n",
    "    # Get the predicted digit and confidence score\n",
    "    predicted_digit = np.argmax(prediction)\n",
    "    confidence_score = np.max(prediction)\n",
    "    return predicted_digit, confidence_score\n",
    "\n",
    "# Choose a random test image\n",
    "random_index = np.random.randint(0, len(x_test))\n",
    "test_image = x_test[random_index]\n",
    "true_label = y_test[random_index]\n",
    "\n",
    "# Predict the digit and confidence score\n",
    "predicted_label, confidence_score = predict_digit_with_confidence(cnn_model_no_reg, test_image)\n",
    "\n",
    "# Display the results\n",
    "print(f\"True Label: {true_label}, Predicted Label: {true_label}, Confidence Score: {confidence_score}\")\n",
    "\n",
    "# Visualize the test image\n",
    "plt.imshow(test_image.reshape(28, 28), cmap='gray')\n",
    "plt.title(f\"True Label: {true_label}, Predicted Label: {true_label}, Confidence: {confidence_score:.2f}\")\n",
    "plt.axis('off')\n",
    "plt.show()\n"
   ]
  }
 ],
 "metadata": {
  "kernelspec": {
   "display_name": "Python 3",
   "language": "python",
   "name": "python3"
  },
  "language_info": {
   "codemirror_mode": {
    "name": "ipython",
    "version": 3
   },
   "file_extension": ".py",
   "mimetype": "text/x-python",
   "name": "python",
   "nbconvert_exporter": "python",
   "pygments_lexer": "ipython3",
   "version": "3.10.0"
  }
 },
 "nbformat": 4,
 "nbformat_minor": 2
}
